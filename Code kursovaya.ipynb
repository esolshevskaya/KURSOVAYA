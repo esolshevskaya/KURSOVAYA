{
  "nbformat": 4,
  "nbformat_minor": 0,
  "metadata": {
    "colab": {
      "name": "CONLLU_FILE.ipynb",
      "provenance": [],
      "collapsed_sections": []
    },
    "kernelspec": {
      "name": "python3",
      "display_name": "Python 3"
    },
    "language_info": {
      "name": "python"
    }
  },
  "cells": [
    {
      "cell_type": "markdown",
      "source": [
        "**РАБОТА С КОНЛЛУ-СИНТАГРУСОМ**"
      ],
      "metadata": {
        "id": "Mz2gu4OcrnNO"
      }
    },
    {
      "cell_type": "code",
      "execution_count": 1,
      "metadata": {
        "id": "G5A8VFF_QPcv",
        "colab": {
          "base_uri": "https://localhost:8080/"
        },
        "outputId": "57d0c255-5fcf-40ee-b0d9-a79cd531784d"
      },
      "outputs": [
        {
          "output_type": "stream",
          "name": "stdout",
          "text": [
            "Looking in indexes: https://pypi.org/simple, https://us-python.pkg.dev/colab-wheels/public/simple/\n",
            "Collecting conllu\n",
            "  Downloading conllu-4.4.2-py2.py3-none-any.whl (15 kB)\n",
            "Installing collected packages: conllu\n",
            "Successfully installed conllu-4.4.2\n"
          ]
        }
      ],
      "source": [
        " ! pip install conllu\n",
        " from conllu import parse"
      ]
    },
    {
      "cell_type": "code",
      "source": [
        "with open ('/content/ru_syntagrus-ud-dev1.conllu', 'r', encoding='utf-8') as f:\n",
        "  data = f.read()\n",
        "sentences = parse(data)"
      ],
      "metadata": {
        "id": "aVdy202uQSKb"
      },
      "execution_count": 2,
      "outputs": []
    },
    {
      "cell_type": "code",
      "source": [
        "len(sentences)"
      ],
      "metadata": {
        "colab": {
          "base_uri": "https://localhost:8080/"
        },
        "id": "iG8kakdZ9HtL",
        "outputId": "69c0982b-1049-494b-85f4-90b2e252af3d"
      },
      "execution_count": null,
      "outputs": [
        {
          "output_type": "execute_result",
          "data": {
            "text/plain": [
              "8906"
            ]
          },
          "metadata": {},
          "execution_count": 3
        }
      ]
    },
    {
      "cell_type": "code",
      "source": [
        "sentence = sentences[0]\n",
        "print(sentence)"
      ],
      "metadata": {
        "id": "GFs0-930QXfq",
        "colab": {
          "base_uri": "https://localhost:8080/"
        },
        "outputId": "6ef3f154-c90b-4c81-b0e1-b38252a4116c"
      },
      "execution_count": 3,
      "outputs": [
        {
          "output_type": "stream",
          "name": "stdout",
          "text": [
            "TokenList<Алгоритм, ,, от, имени, учёного, аль, -, Хорезми, ,, -, точный, набор, инструкций, ,, описывающих, порядок, действий, исполнителя, для, достижения, результата, решения, задачи, за, конечное, время, ., metadata={sent_id: \"2013Algoritm.xml_1\", text: \"Алгоритм, от имени учёного аль-Хорезми, - точный набор инструкций, описывающих порядок действий исполнителя для достижения результата решения задачи за конечное время.\"}>\n"
          ]
        }
      ]
    },
    {
      "cell_type": "code",
      "source": [
        "token = sentence[12]\n",
        "token"
      ],
      "metadata": {
        "id": "E2ppd1jAQgWN",
        "colab": {
          "base_uri": "https://localhost:8080/"
        },
        "outputId": "6420abd9-32ad-4365-c005-fd9038e462b3"
      },
      "execution_count": 4,
      "outputs": [
        {
          "output_type": "execute_result",
          "data": {
            "text/plain": [
              "{'deprel': 'nmod',\n",
              " 'deps': [('nmod:gen', 12)],\n",
              " 'feats': {'Animacy': 'Inan',\n",
              "  'Case': 'Gen',\n",
              "  'Gender': 'Fem',\n",
              "  'Number': 'Plur'},\n",
              " 'form': 'инструкций',\n",
              " 'head': 12,\n",
              " 'id': 13,\n",
              " 'lemma': 'инструкция',\n",
              " 'misc': {'SpaceAfter': 'No'},\n",
              " 'upos': 'NOUN',\n",
              " 'xpos': None}"
            ]
          },
          "metadata": {},
          "execution_count": 4
        }
      ]
    },
    {
      "cell_type": "code",
      "source": [
        "sentence.serialize()\n",
        "word = sentence.filter(upos='PROPN')\n",
        "word"
      ],
      "metadata": {
        "id": "u_zVv7CcRUyq"
      },
      "execution_count": null,
      "outputs": []
    },
    {
      "cell_type": "markdown",
      "source": [
        "**МАСКИРОВАНИЕ**"
      ],
      "metadata": {
        "id": "_3KZAVn8437y"
      }
    },
    {
      "cell_type": "code",
      "source": [
        "all_propn_sents = []\n",
        "for sentence in sentences:\n",
        "  sentence.serialize()\n",
        "  word = sentence.filter(upos='PROPN')\n",
        "  if word:\n",
        "    met = sentence.metadata['text']\n",
        "    all_propn_sents.append(met)"
      ],
      "metadata": {
        "id": "cbGb07mvWVzZ"
      },
      "execution_count": null,
      "outputs": []
    },
    {
      "cell_type": "code",
      "source": [
        "len(all_propn_sents) #все предложения с propn списком"
      ],
      "metadata": {
        "id": "lAnqrHFRYyFU",
        "colab": {
          "base_uri": "https://localhost:8080/"
        },
        "outputId": "cf5d74f3-7e1a-4c39-cb85-fb6d689a5eee"
      },
      "execution_count": null,
      "outputs": [
        {
          "output_type": "execute_result",
          "data": {
            "text/plain": [
              "2815"
            ]
          },
          "metadata": {},
          "execution_count": 8
        }
      ]
    },
    {
      "cell_type": "code",
      "source": [
        "with open ('/content/sents_with_propn.txt', 'a', encoding='utf-8') as f:\n",
        "  for sent in all_propn_sents:\n",
        "    f.write(sent)\n",
        "    f.write('\\n')"
      ],
      "metadata": {
        "id": "_Kitz4Lm_jgS"
      },
      "execution_count": null,
      "outputs": []
    },
    {
      "cell_type": "code",
      "source": [
        "sentence.metadata"
      ],
      "metadata": {
        "id": "JjaeSSV_Waj3",
        "colab": {
          "base_uri": "https://localhost:8080/"
        },
        "outputId": "05166a9e-2614-4a9e-dd6b-4770f2c4f297"
      },
      "execution_count": null,
      "outputs": [
        {
          "output_type": "execute_result",
          "data": {
            "text/plain": [
              "{'genre': 'fiction',\n",
              " 'sent_id': '2020_RFFIInstrument_yazyka_1.xml_619',\n",
              " 'text': 'В наши дни, когда никто никого не слушает, внимание - большая редкость.'}"
            ]
          },
          "metadata": {},
          "execution_count": 9
        }
      ]
    },
    {
      "cell_type": "code",
      "source": [
        "list_s = []\n",
        "for i in range(0, len(sentences)):\n",
        "  s = sentences[i]\n",
        "  a = s.metadata['text']\n",
        "  list_s.append(a)\n",
        "list_s[:100] #все предложения списком"
      ],
      "metadata": {
        "id": "c_MX6jtDcXhm"
      },
      "execution_count": null,
      "outputs": []
    },
    {
      "cell_type": "code",
      "source": [
        "propns = []\n",
        "words = []\n",
        "for sent in sentences:\n",
        "  for token in sent:\n",
        "    if token['upos'] == 'PROPN':\n",
        "      propns.append(token['form'])     \n",
        "print(propns) #все именованные сущности\n",
        "\n",
        "for sent in sentences:\n",
        "  for token in sent:\n",
        "    words.append(token['form']) \n",
        "print(words) #все предложения списком по словам"
      ],
      "metadata": {
        "id": "E1Lht1G8h_Lo"
      },
      "execution_count": null,
      "outputs": []
    },
    {
      "cell_type": "code",
      "source": [
        "for i in propns:\n",
        "  for s in range(len(words)):\n",
        "    if i == words[s]:\n",
        "      words[s] = '[MASK]'\n",
        "print(words[:100])"
      ],
      "metadata": {
        "id": "M2jqtEmJ4cpF",
        "colab": {
          "base_uri": "https://localhost:8080/"
        },
        "outputId": "8e85addd-5e02-4b85-fd1a-c85e6817b66c"
      },
      "execution_count": null,
      "outputs": [
        {
          "output_type": "stream",
          "name": "stdout",
          "text": [
            "['Алгоритм', ',', 'от', 'имени', 'учёного', 'аль', '-', '[MASK]', ',', '-', 'точный', 'набор', 'инструкций', ',', 'описывающих', 'порядок', 'действий', 'исполнителя', 'для', 'достижения', 'результата', 'решения', 'задачи', 'за', 'конечное', 'время', '.', 'В', 'старой', 'трактовке', 'вместо', 'слова', '\"', 'порядок', '\"', 'использовалось', 'слово', '\"', 'последовательность', '\"', ',', 'но', 'по', 'мере', 'развития', 'параллельности', 'в', 'работе', 'компьютеров', 'слово', '\"', 'последовательность', '\"', 'стали', 'заменять', 'более', 'общим', 'словом', '\"', 'порядок', '\"', '.', 'Это', 'связано', 'с', 'тем', ',', 'что', 'работа', 'каких-то', 'инструкций', 'алгоритма', 'может', 'быть', 'зависима', 'от', 'других', 'инструкций', 'или', 'результатов', 'их', 'работы', '.', 'Таким', 'образом', ',', 'некоторые', 'инструкции', 'должны', 'выполняться', 'строго', 'после', 'завершения', 'работы', 'инструкций', ',', 'от', 'которых', 'они', 'зависят']\n"
          ]
        }
      ]
    },
    {
      "cell_type": "markdown",
      "source": [
        "**СОЗДАНИЕ ТЕКСТА ИЗ МАСКИРОВАННЫХ ПРЕДЛОЖЕНИЙ**"
      ],
      "metadata": {
        "id": "ImAmdqlv4-oc"
      }
    },
    {
      "cell_type": "code",
      "source": [
        "words_text = ' '.join(words)\n",
        "#print(words_text)\n",
        "\n",
        "import re\n",
        "\n",
        "words_text = words_text.replace(' .', '.')\n",
        "words_text = words_text.replace('. \" ', '. \"')\n",
        "words_text = words_text.replace(' \".', '\".')"
      ],
      "metadata": {
        "id": "LZS3jG5a3PTB"
      },
      "execution_count": null,
      "outputs": []
    },
    {
      "cell_type": "code",
      "source": [
        "a = re.sub('\\s(?=[,.!?;:])', '', words_text)\n",
        "\n",
        "regex = re.compile('\\\"\\s\\w+\\s\\\"')\n",
        "a = regex.sub(lambda match: match.group().replace(' ',\"\"), a)\n",
        "\n",
        "a = re.sub('\\s(?=\\))', '', a)\n",
        "a = re.sub('(?<=\\()\\s', '', a)\n",
        "#print(type(a))\n",
        "\n",
        "a = a.replace('(\" ', '(\"')\n",
        "a = a.replace(' \")', ')\"')\n",
        "a = a.replace(' \",', '\",')\n",
        "a = a.replace('- \" ', '- \"')\n",
        "a = a.replace('аль - ', 'аль-')\n",
        "a = a.replace(' \" ', ' \"')\n",
        "a[:3000]"
      ],
      "metadata": {
        "id": "nVbJPMPU6Vgh"
      },
      "execution_count": null,
      "outputs": []
    },
    {
      "cell_type": "code",
      "source": [
        "with open ('/content/masked_text.txt', 'a', encoding='utf-8') as f:\n",
        "  for word in a:\n",
        "    f.write(word) # файл со всеми предложениями где правильные маски"
      ],
      "metadata": {
        "id": "dF1nFkjdxel5"
      },
      "execution_count": null,
      "outputs": []
    },
    {
      "cell_type": "markdown",
      "source": [
        "**РАБОТА С БЕРТОМ**"
      ],
      "metadata": {
        "id": "HWYnNEhusAmF"
      }
    },
    {
      "cell_type": "code",
      "source": [
        "!wget -c http://files.deeppavlov.ai/deeppavlov_data/bert/rubert_cased_L-12_H-768_A-12_pt.tar.gz\n",
        "!tar -zxf rubert_cased_L-12_H-768_A-12_pt.tar.gz\n",
        "!cp rubert_cased_L-12_H-768_A-12_pt/bert_config.json rubert_cased_L-12_H-768_A-12_pt/config.json\n",
        "!pip install transformers\n",
        "import transformers\n",
        "tokenizer = transformers.BertTokenizerFast.from_pretrained('rubert_cased_L-12_H-768_A-12_pt')\n",
        "\n",
        "config = transformers.BertConfig.from_pretrained('rubert_cased_L-12_H-768_A-12_pt', output_hidden_states=True)\n",
        "model = transformers.BertForMaskedLM.from_pretrained('rubert_cased_L-12_H-768_A-12_pt', config=config)"
      ],
      "metadata": {
        "id": "useVPko8a1uc"
      },
      "execution_count": null,
      "outputs": []
    },
    {
      "cell_type": "code",
      "source": [
        "from tqdm.auto import tqdm\n",
        "import torch\n",
        "\n",
        "def get_bert_substs(text):\n",
        "    text_encoded = tokenizer.encode(text, return_tensors=\"pt\")\n",
        "    texts_subtokens = tokenizer.convert_ids_to_tokens(text_encoded[0])\n",
        "\n",
        "    mask_token_indices = torch.where(text_encoded == tokenizer.mask_token_id)\n",
        "    model_pred = model(text_encoded, return_dict=True)\n",
        "\n",
        "    token2model_ebedding_list = model_pred.hidden_states[-1]  # previous (-2 etc) elems are for intermediate layers\n",
        "    \n",
        "    mask_embedding = token2model_ebedding_list[mask_token_indices]\n",
        "    mask_filler_candidates = tokenizer.convert_ids_to_tokens(model_pred.logits[mask_token_indices]\n",
        "                                                                       .topk(100)\n",
        "                                                                       .indices.flatten().tolist())\n",
        "    return mask_filler_candidates, mask_embedding, texts_subtokens"
      ],
      "metadata": {
        "id": "BJFGZeSFa5CB"
      },
      "execution_count": null,
      "outputs": []
    },
    {
      "cell_type": "markdown",
      "source": [
        "**РАБОТА С ЗАМАСКИРОВАННЫМИ ПРЕДЛОЖЕНИЯМИ**"
      ],
      "metadata": {
        "id": "OlxbqPh6btx6"
      }
    },
    {
      "cell_type": "code",
      "source": [
        "text = []\n",
        "with open ('/content/masked_text.txt', 'r', encoding='utf-8') as f:\n",
        "  fi = f.read()\n",
        "text = fi.split('. ')\n",
        "text"
      ],
      "metadata": {
        "id": "BghY9OTUZDbs"
      },
      "execution_count": null,
      "outputs": []
    },
    {
      "cell_type": "code",
      "source": [
        "text = ['{}.'.format(el) for el in text]\n",
        "type(text)"
      ],
      "metadata": {
        "id": "DVv_68kZZ7df",
        "colab": {
          "base_uri": "https://localhost:8080/"
        },
        "outputId": "5087f7fc-a017-48b1-aeee-9448058ed818"
      },
      "execution_count": null,
      "outputs": [
        {
          "output_type": "execute_result",
          "data": {
            "text/plain": [
              "list"
            ]
          },
          "metadata": {},
          "execution_count": 37
        }
      ]
    },
    {
      "cell_type": "code",
      "source": [
        "# BERT подставляет только на место первой маски\n",
        "# -> выбираем только предложения с одной маской"
      ],
      "metadata": {
        "id": "Bvy6Op9Ws_cV"
      },
      "execution_count": null,
      "outputs": []
    },
    {
      "cell_type": "code",
      "source": [
        "ms = []\n",
        "withmask = []\n",
        "import re\n",
        "for s in text:\n",
        "  if not re.search(r'.*\\[MASK\\].*\\[MASK\\].*', s):\n",
        "    ms.append(s)\n",
        "for s in ms:\n",
        "  if re.search(r'.*\\[MASK\\].*', s):\n",
        "    withmask.append(s)\n",
        "withmask[:20] #список предложений только с одной маской"
      ],
      "metadata": {
        "id": "nTsnpkknaRdh"
      },
      "execution_count": null,
      "outputs": []
    },
    {
      "cell_type": "code",
      "source": [
        "#all_propn_sents - все предложения с propn списком\n",
        "#withmask[:20] список предложений только с одной маской\n",
        "\n",
        "lst_result = []\n",
        "lst_nomask = []\n",
        "for sent in all_propn_sents:\n",
        "  beg = sent[:20]\n",
        "  #print(beg)\n",
        "  for el in withmask:\n",
        "    if beg in el:\n",
        "      lst_result.append(el)\n",
        "      lst_nomask.append(sent)\n",
        "    else:\n",
        "      continue\n",
        "lst_result[:20]"
      ],
      "metadata": {
        "id": "rWoaIxTvVaJ1"
      },
      "execution_count": null,
      "outputs": []
    },
    {
      "cell_type": "code",
      "source": [
        "lst_nomask[:25]"
      ],
      "metadata": {
        "id": "UwIeKqURa8A9"
      },
      "execution_count": null,
      "outputs": []
    },
    {
      "cell_type": "code",
      "source": [
        "with open ('/content/masks_check.txt', 'a', encoding='utf-8') as f:\n",
        "  for sent in lst_result:\n",
        "    f.write(sent) # файл где по 1 маске на предложение\n",
        "    f.write('\\n')"
      ],
      "metadata": {
        "id": "lV0Fw9Oxb0Ct"
      },
      "execution_count": null,
      "outputs": []
    },
    {
      "cell_type": "code",
      "source": [
        "with open ('/content/no_masks_check.txt', 'a', encoding='utf-8') as f:\n",
        "  for sent in lst_nomask:\n",
        "    f.write(sent) # файл где нет масок аналог с 1 маской на предложение\n",
        "    f.write('\\n')"
      ],
      "metadata": {
        "id": "aP9SR_PSb3ky"
      },
      "execution_count": null,
      "outputs": []
    },
    {
      "cell_type": "code",
      "source": [
        "len(lst_nomask)"
      ],
      "metadata": {
        "colab": {
          "base_uri": "https://localhost:8080/"
        },
        "id": "H94v3yPLbc42",
        "outputId": "b67144fd-483d-4b0f-e992-554f42d1eb0a"
      },
      "execution_count": null,
      "outputs": [
        {
          "output_type": "execute_result",
          "data": {
            "text/plain": [
              "921"
            ]
          },
          "metadata": {},
          "execution_count": 42
        }
      ]
    },
    {
      "cell_type": "code",
      "source": [
        "len(lst_result) # полученный в итоге список предложений с которым я работаю"
      ],
      "metadata": {
        "colab": {
          "base_uri": "https://localhost:8080/"
        },
        "id": "8EHKf9hWZh8h",
        "outputId": "443024bf-33ad-4c51-d373-9f7055ed1c33"
      },
      "execution_count": null,
      "outputs": [
        {
          "output_type": "execute_result",
          "data": {
            "text/plain": [
              "921"
            ]
          },
          "metadata": {},
          "execution_count": 43
        }
      ]
    },
    {
      "cell_type": "code",
      "source": [
        "withmask[:20]"
      ],
      "metadata": {
        "id": "o2hjX7kWZng4"
      },
      "execution_count": null,
      "outputs": []
    },
    {
      "cell_type": "code",
      "source": [
        "with open ('/content/file_again.txt', 'a', encoding='utf-8') as f:\n",
        "  for sent in withmask:\n",
        "    f.write(sent) # файл где по 1 маске на предложение\n",
        "    f.write('\\n')"
      ],
      "metadata": {
        "id": "ygpXccfZTMEY"
      },
      "execution_count": null,
      "outputs": []
    },
    {
      "cell_type": "code",
      "source": [
        "with open ('/content/masked_string.txt', 'a', encoding='utf-8') as f:\n",
        "  for sent in masks:\n",
        "    f.write(sent) # файл со всеми предложениями где правильные маски\n",
        "    f.write('\\n')"
      ],
      "metadata": {
        "id": "9uJUjOjkykkh"
      },
      "execution_count": null,
      "outputs": []
    },
    {
      "cell_type": "code",
      "source": [
        "len(masks) #было предложений всего с масками"
      ],
      "metadata": {
        "colab": {
          "base_uri": "https://localhost:8080/"
        },
        "id": "9ixhRZ08tmGm",
        "outputId": "b94d900f-5376-425b-b24f-14ba886f1b82"
      },
      "execution_count": null,
      "outputs": [
        {
          "output_type": "execute_result",
          "data": {
            "text/plain": [
              "2977"
            ]
          },
          "metadata": {},
          "execution_count": 16
        }
      ]
    },
    {
      "cell_type": "code",
      "source": [
        "len(withmask) #предложений где одна маска"
      ],
      "metadata": {
        "colab": {
          "base_uri": "https://localhost:8080/"
        },
        "id": "z3Ub-0e1qCso",
        "outputId": "7ba9f5ac-bc4f-47a6-da67-5afa21c31bf2"
      },
      "execution_count": null,
      "outputs": [
        {
          "output_type": "execute_result",
          "data": {
            "text/plain": [
              "1590"
            ]
          },
          "metadata": {},
          "execution_count": 19
        }
      ]
    },
    {
      "cell_type": "code",
      "source": [
        "d2 = {\"id\": 1948, \"name\": \"Washer\", \"size\": 3}\n",
        "with open('out.txt','w') as out1:\n",
        "    for key,val in d2.items():\n",
        "        out1.write('{}: {}\\n'.format(key,val))"
      ],
      "metadata": {
        "id": "pDLxdXOjYBvx"
      },
      "execution_count": null,
      "outputs": []
    },
    {
      "cell_type": "markdown",
      "source": [
        "**РАБОТА ПО АНАЛИЗУ МАСОК НА ПРИМЕРЕ ТЕКСТА ПРО ГАЛИЛЕО**"
      ],
      "metadata": {
        "id": "80igFuBvmx2I"
      }
    },
    {
      "cell_type": "code",
      "source": [
        "import re"
      ],
      "metadata": {
        "id": "HMOVL3ZradiT"
      },
      "execution_count": null,
      "outputs": []
    },
    {
      "cell_type": "code",
      "source": [
        "galileo = []\n",
        "with open ('/content/galileo.txt', 'r', encoding='utf-8') as f:\n",
        "  fi = f.read()\n",
        "galileo = fi.split('\\n')\n",
        "len(galileo)"
      ],
      "metadata": {
        "colab": {
          "base_uri": "https://localhost:8080/"
        },
        "id": "mviQHfAMeL1m",
        "outputId": "79d641e1-a39e-4d1e-f3ad-30fb93d512fc"
      },
      "execution_count": null,
      "outputs": [
        {
          "output_type": "execute_result",
          "data": {
            "text/plain": [
              "85"
            ]
          },
          "metadata": {},
          "execution_count": 13
        }
      ]
    },
    {
      "cell_type": "code",
      "source": [
        "galileo[84]"
      ],
      "metadata": {
        "colab": {
          "base_uri": "https://localhost:8080/",
          "height": 63
        },
        "id": "GW08DhUCfemw",
        "outputId": "492b2f9e-3130-4a33-c044-95e082122fff"
      },
      "execution_count": null,
      "outputs": [
        {
          "output_type": "execute_result",
          "data": {
            "text/plain": [
              "'nameВ настоящее время гипотеза [MASK] в среде историков считается бездоказательной и не обсуждается.'"
            ],
            "application/vnd.google.colaboratory.intrinsic+json": {
              "type": "string"
            }
          },
          "metadata": {},
          "execution_count": 14
        }
      ]
    },
    {
      "cell_type": "code",
      "source": [
        "no_galileo = []\n",
        "with open ('/content/no_galileo.txt', 'r', encoding='utf-8') as f:\n",
        "  fi = f.read()\n",
        "no_galileo = fi.split('\\n')\n",
        "len(no_galileo)"
      ],
      "metadata": {
        "colab": {
          "base_uri": "https://localhost:8080/"
        },
        "id": "nCoohFGkfXXB",
        "outputId": "2b627a1b-9e9e-4dac-fe8b-4fe6a224d532"
      },
      "execution_count": null,
      "outputs": [
        {
          "output_type": "execute_result",
          "data": {
            "text/plain": [
              "85"
            ]
          },
          "metadata": {},
          "execution_count": 15
        }
      ]
    },
    {
      "cell_type": "code",
      "source": [
        "gal = []\n",
        "with open ('/content/galileo_propns.txt', 'r', encoding='utf-8') as f:\n",
        "  strs = f.read()\n",
        "\n",
        "gal = strs.split('\\n')\n",
        "len(gal)"
      ],
      "metadata": {
        "colab": {
          "base_uri": "https://localhost:8080/"
        },
        "id": "eiMIgtj4jyxP",
        "outputId": "8fd22744-b892-4d1c-ad62-84d3791d91ca"
      },
      "execution_count": null,
      "outputs": [
        {
          "output_type": "execute_result",
          "data": {
            "text/plain": [
              "85"
            ]
          },
          "metadata": {},
          "execution_count": 16
        }
      ]
    },
    {
      "cell_type": "code",
      "source": [
        "# имеем категории: brand city cou geo name thing"
      ],
      "metadata": {
        "id": "TjSoFrBzm6C9"
      },
      "execution_count": null,
      "outputs": []
    },
    {
      "cell_type": "code",
      "source": [
        "name_galileo = [] # все предложения с замаскированным NAME\n",
        "for name in galileo:\n",
        "    if \"name\" in name:\n",
        "      name = re.sub(r'name', '', name)\n",
        "      name_galileo.append(name)\n",
        "    if \"cou\" in name:\n",
        "      name = re.sub(r'cou', '', name)\n",
        "      name_galileo.append(name)\n",
        "    if \"city\" in name:\n",
        "      name = re.sub(r'city', '', name)\n",
        "      name_galileo.append(name)\n",
        "    if \"thing\" in name:\n",
        "      name = re.sub(r'thing', '', name)\n",
        "      name_galileo.append(name)\n",
        "    if \"brand\" in name:\n",
        "      name = re.sub(r'brand', '', name)\n",
        "      name_galileo.append(name)\n",
        "    if \"geo\" in name:\n",
        "      name = re.sub(r'geo', '', name)\n",
        "      name_galileo.append(name)\n",
        "    if name not in name_galileo:\n",
        "      name_galileo.append(name)\n",
        "name_galileo[83]"
      ],
      "metadata": {
        "colab": {
          "base_uri": "https://localhost:8080/",
          "height": 42
        },
        "id": "Cxc_HTQgiPRk",
        "outputId": "c606a855-79f8-4c61-d223-36531d313634"
      },
      "execution_count": null,
      "outputs": [
        {
          "output_type": "execute_result",
          "data": {
            "text/plain": [
              "'- Не обнаружено свидетельств того, что найденный [MASK] донос имел какие-либо последствия.'"
            ],
            "application/vnd.google.colaboratory.intrinsic+json": {
              "type": "string"
            }
          },
          "metadata": {},
          "execution_count": 19
        }
      ]
    },
    {
      "cell_type": "code",
      "source": [
        "reses_galileo = []\n",
        "for sent in name_galileo:\n",
        "  substs, mask_embedding, subtoks = get_bert_substs(sent)\n",
        "  reses_galileo.append({\n",
        "      \"substs\": substs,\n",
        "      \"sent\": sent\n",
        "      })\n",
        "for i in reses_galileo:\n",
        "  print(i, end='\\n')"
      ],
      "metadata": {
        "id": "NAvIegDTjxQH"
      },
      "execution_count": null,
      "outputs": []
    },
    {
      "cell_type": "code",
      "source": [
        "len(reses_galileo)"
      ],
      "metadata": {
        "colab": {
          "base_uri": "https://localhost:8080/"
        },
        "id": "GTaEmpsAnkel",
        "outputId": "50965b36-98c0-4f1d-f93c-e87a4d04590c"
      },
      "execution_count": null,
      "outputs": [
        {
          "output_type": "execute_result",
          "data": {
            "text/plain": [
              "85"
            ]
          },
          "metadata": {},
          "execution_count": 24
        }
      ]
    },
    {
      "cell_type": "code",
      "source": [
        "len(name_galileo)"
      ],
      "metadata": {
        "colab": {
          "base_uri": "https://localhost:8080/"
        },
        "id": "FDdG0zP8pOkr",
        "outputId": "51f468cd-f7b5-4169-b9ea-7f1cd84f4400"
      },
      "execution_count": null,
      "outputs": [
        {
          "output_type": "execute_result",
          "data": {
            "text/plain": [
              "85"
            ]
          },
          "metadata": {},
          "execution_count": 25
        }
      ]
    },
    {
      "cell_type": "code",
      "source": [
        "all = []\n",
        "for i in range(len(name_galileo)):\n",
        "  dct_galileo = {}\n",
        "  dct_galileo[\"1_sentence\"] = no_galileo[i]\n",
        "  dct_galileo[\"2_masked_token\"] = gal[i]\n",
        "  dct_galileo[\"3_masked_sentence\"] = name_galileo[i]\n",
        "  dct_galileo[\"4_bert_hypotheses\"] = reses_galileo[i]['substs'][:15]\n",
        "  all.append(dct_galileo)\n",
        "all"
      ],
      "metadata": {
        "id": "qSRrizOOm7c_"
      },
      "execution_count": null,
      "outputs": []
    },
    {
      "cell_type": "markdown",
      "source": [
        "**ТЕКСТ ПРО АЛЬПИНИЗМ**"
      ],
      "metadata": {
        "id": "tEeV_ndAtI6l"
      }
    },
    {
      "cell_type": "code",
      "source": [
        "alpin = []\n",
        "with open ('/content/alpin.txt', 'r', encoding='utf-8') as f:\n",
        "  fi = f.read()\n",
        "alpin = fi.split('\\n')\n",
        "len(alpin)"
      ],
      "metadata": {
        "colab": {
          "base_uri": "https://localhost:8080/"
        },
        "id": "v33Nn0k8tHhg",
        "outputId": "8ece1487-bc9d-4cc0-aa49-fad19613849d"
      },
      "execution_count": null,
      "outputs": [
        {
          "output_type": "execute_result",
          "data": {
            "text/plain": [
              "43"
            ]
          },
          "metadata": {},
          "execution_count": 27
        }
      ]
    },
    {
      "cell_type": "code",
      "source": [
        "no_alpin = []\n",
        "with open ('/content/no_alpin.txt', 'r', encoding='utf-8') as f:\n",
        "  fi = f.read()\n",
        "no_alpin = fi.split('\\n')\n",
        "len(no_alpin)"
      ],
      "metadata": {
        "colab": {
          "base_uri": "https://localhost:8080/"
        },
        "id": "hEbkcH05tUry",
        "outputId": "9fcb968b-6e06-4c94-dba0-fe3ca06154e9"
      },
      "execution_count": null,
      "outputs": [
        {
          "output_type": "execute_result",
          "data": {
            "text/plain": [
              "43"
            ]
          },
          "metadata": {},
          "execution_count": 28
        }
      ]
    },
    {
      "cell_type": "code",
      "source": [
        "alpin"
      ],
      "metadata": {
        "id": "-1DV7WBox6Yr"
      },
      "execution_count": null,
      "outputs": []
    },
    {
      "cell_type": "code",
      "source": [
        "alp = []\n",
        "with open ('/content/alpin_propns.txt', 'r', encoding='utf-8') as f:\n",
        "  strs = f.read()\n",
        "\n",
        "alp = strs.split('\\n')\n",
        "len(alp)"
      ],
      "metadata": {
        "colab": {
          "base_uri": "https://localhost:8080/"
        },
        "id": "rRm3q2GftXg_",
        "outputId": "f4c3f10e-267c-4e81-9812-07e449ff098b"
      },
      "execution_count": null,
      "outputs": [
        {
          "output_type": "execute_result",
          "data": {
            "text/plain": [
              "43"
            ]
          },
          "metadata": {},
          "execution_count": 30
        }
      ]
    },
    {
      "cell_type": "code",
      "source": [
        "reses_alpin = []\n",
        "for sent in alpin:\n",
        "  substs, mask_embedding, subtoks = get_bert_substs(sent)\n",
        "  reses_alpin.append({\n",
        "      \"substs\": substs,\n",
        "      \"sent\": sent\n",
        "      })\n",
        "for i in reses_alpin:\n",
        "  print(i, end='\\n')"
      ],
      "metadata": {
        "id": "ghF4BnvEtcab"
      },
      "execution_count": null,
      "outputs": []
    },
    {
      "cell_type": "code",
      "source": [
        "for i in range(len(alp)):\n",
        "  dct_alpin = {}\n",
        "  dct_alpin[\"1_sentence\"] = no_alpin[i]\n",
        "  dct_alpin[\"2_masked_token\"] = alp[i]\n",
        "  dct_alpin[\"3_masked_sentence\"] = alpin[i]\n",
        "  dct_alpin[\"4_bert_hypotheses\"] = reses_alpin[i]['substs'][:15]\n",
        "  all.append(dct_alpin)\n",
        "all"
      ],
      "metadata": {
        "id": "53qOV61ptmEo"
      },
      "execution_count": null,
      "outputs": []
    },
    {
      "cell_type": "markdown",
      "source": [
        "**ТЕКСТЫ ПРО ЭКОНОМИКУ**"
      ],
      "metadata": {
        "id": "5fC4lVULeCCD"
      }
    },
    {
      "cell_type": "code",
      "source": [
        "economics = []\n",
        "with open ('/content/economics.txt', 'r', encoding='utf-8') as f:\n",
        "  fi = f.read()\n",
        "economics = fi.split('\\n')\n",
        "len(economics)"
      ],
      "metadata": {
        "colab": {
          "base_uri": "https://localhost:8080/"
        },
        "outputId": "3a7c5d9e-27aa-451a-c439-1ed6516566d9",
        "id": "lZOrNQSfeCCE"
      },
      "execution_count": null,
      "outputs": [
        {
          "output_type": "execute_result",
          "data": {
            "text/plain": [
              "57"
            ]
          },
          "metadata": {},
          "execution_count": 33
        }
      ]
    },
    {
      "cell_type": "code",
      "source": [
        "no_economics = []\n",
        "with open ('/content/no_economics.txt', 'r', encoding='utf-8') as f:\n",
        "  fi = f.read()\n",
        "no_economics = fi.split('\\n')\n",
        "len(no_economics)"
      ],
      "metadata": {
        "colab": {
          "base_uri": "https://localhost:8080/"
        },
        "outputId": "ef913c08-db68-464a-c7ec-aeeee5eff54c",
        "id": "dLtvb1V9eCCE"
      },
      "execution_count": null,
      "outputs": [
        {
          "output_type": "execute_result",
          "data": {
            "text/plain": [
              "57"
            ]
          },
          "metadata": {},
          "execution_count": 34
        }
      ]
    },
    {
      "cell_type": "code",
      "source": [
        "eco = []\n",
        "with open ('/content/economics_propns.txt', 'r', encoding='utf-8') as f:\n",
        "  strs = f.read()\n",
        "\n",
        "eco = strs.split('\\n')\n",
        "len(eco)"
      ],
      "metadata": {
        "colab": {
          "base_uri": "https://localhost:8080/"
        },
        "outputId": "3f464d37-fa1f-4c96-f1ab-3d37a67b8364",
        "id": "mBdPqNSheKV2"
      },
      "execution_count": null,
      "outputs": [
        {
          "output_type": "execute_result",
          "data": {
            "text/plain": [
              "57"
            ]
          },
          "metadata": {},
          "execution_count": 35
        }
      ]
    },
    {
      "cell_type": "code",
      "source": [
        "reses_eco = []\n",
        "for sent in economics:\n",
        "  substs, mask_embedding, subtoks = get_bert_substs(sent)\n",
        "  reses_eco.append({\n",
        "      \"substs\": substs,\n",
        "      \"sent\": sent\n",
        "      })\n",
        "for i in reses_eco:\n",
        "  print(i, end='\\n')"
      ],
      "metadata": {
        "id": "7z3LXZVFeKV2"
      },
      "execution_count": null,
      "outputs": []
    },
    {
      "cell_type": "code",
      "source": [
        "for i in range(len(eco)):\n",
        "  dct_eco = {}\n",
        "  dct_eco[\"1_sentence\"] = no_economics[i]\n",
        "  dct_eco[\"2_masked_token\"] = eco[i]\n",
        "  dct_eco[\"3_masked_sentence\"] = economics[i]\n",
        "  dct_eco[\"4_bert_hypotheses\"] = reses_eco[i]['substs'][:15]\n",
        "  all.append(dct_eco)\n",
        "all"
      ],
      "metadata": {
        "id": "dmIzJRnseKV3"
      },
      "execution_count": null,
      "outputs": []
    },
    {
      "cell_type": "markdown",
      "source": [
        "**ТЕКСТЫ ПРО БРЕНДЫ**"
      ],
      "metadata": {
        "id": "PmKmhDGRrTAX"
      }
    },
    {
      "cell_type": "code",
      "source": [
        "brands = []\n",
        "with open ('/content/brands.txt', 'r', encoding='utf-8') as f:\n",
        "  fi = f.read()\n",
        "brands = fi.split('\\n')\n",
        "len(brands)"
      ],
      "metadata": {
        "colab": {
          "base_uri": "https://localhost:8080/"
        },
        "outputId": "ab7de180-eaaf-4499-8cf4-d8507c5327f6",
        "id": "x-J0sPmdrTAY"
      },
      "execution_count": null,
      "outputs": [
        {
          "output_type": "execute_result",
          "data": {
            "text/plain": [
              "40"
            ]
          },
          "metadata": {},
          "execution_count": 38
        }
      ]
    },
    {
      "cell_type": "code",
      "source": [
        "no_brands = []\n",
        "with open ('/content/no_brands.txt', 'r', encoding='utf-8') as f:\n",
        "  fi = f.read()\n",
        "no_brands = fi.split('\\n')\n",
        "len(no_brands)"
      ],
      "metadata": {
        "colab": {
          "base_uri": "https://localhost:8080/"
        },
        "outputId": "7862bd8c-6fac-4a3c-f328-999cc4ccb2ad",
        "id": "CbXLOu7hrTAY"
      },
      "execution_count": null,
      "outputs": [
        {
          "output_type": "execute_result",
          "data": {
            "text/plain": [
              "40"
            ]
          },
          "metadata": {},
          "execution_count": 39
        }
      ]
    },
    {
      "cell_type": "code",
      "source": [
        "bra = []\n",
        "with open ('/content/brands_propns.txt', 'r', encoding='utf-8') as f:\n",
        "  strs = f.read()\n",
        "\n",
        "bra = strs.split('\\n')\n",
        "len(bra)"
      ],
      "metadata": {
        "colab": {
          "base_uri": "https://localhost:8080/"
        },
        "outputId": "040cb114-d325-4578-b44b-ada9dc032be8",
        "id": "jPFEv5ijrTAY"
      },
      "execution_count": null,
      "outputs": [
        {
          "output_type": "execute_result",
          "data": {
            "text/plain": [
              "40"
            ]
          },
          "metadata": {},
          "execution_count": 40
        }
      ]
    },
    {
      "cell_type": "code",
      "source": [
        "reses_bra = []\n",
        "for sent in brands:\n",
        "  substs, mask_embedding, subtoks = get_bert_substs(sent)\n",
        "  reses_bra.append({\n",
        "      \"substs\": substs,\n",
        "      \"sent\": sent\n",
        "      })\n",
        "for i in reses_bra:\n",
        "  print(i, end='\\n')"
      ],
      "metadata": {
        "id": "GCVvsKNTrTAZ"
      },
      "execution_count": null,
      "outputs": []
    },
    {
      "cell_type": "code",
      "source": [
        "for i in range(len(bra)):\n",
        "  dct_brands = {}\n",
        "  dct_brands[\"1_sentence\"] = no_brands[i]\n",
        "  dct_brands[\"2_masked_token\"] = bra[i]\n",
        "  dct_brands[\"3_masked_sentence\"] = brands[i]\n",
        "  dct_brands[\"4_bert_hypotheses\"] = reses_bra[i]['substs'][:15]\n",
        "  all.append(dct_brands)\n",
        "all"
      ],
      "metadata": {
        "id": "sv0dEJ2-rTAZ"
      },
      "execution_count": null,
      "outputs": []
    },
    {
      "cell_type": "markdown",
      "source": [
        "**ТЕКСТЫ ПРО ИСТОРИЮ**"
      ],
      "metadata": {
        "id": "-btgFn35359I"
      }
    },
    {
      "cell_type": "code",
      "source": [
        "history = []\n",
        "with open ('/content/history.txt', 'r', encoding='utf-8') as f:\n",
        "  fi = f.read()\n",
        "history = fi.split('\\n')\n",
        "len(history)"
      ],
      "metadata": {
        "colab": {
          "base_uri": "https://localhost:8080/"
        },
        "outputId": "6b72e9c8-c97e-4626-9e15-38ddc657e09a",
        "id": "LMwYqk0X359W"
      },
      "execution_count": null,
      "outputs": [
        {
          "output_type": "execute_result",
          "data": {
            "text/plain": [
              "51"
            ]
          },
          "metadata": {},
          "execution_count": 43
        }
      ]
    },
    {
      "cell_type": "code",
      "source": [
        "no_history = []\n",
        "with open ('/content/no_history.txt', 'r', encoding='utf-8') as f:\n",
        "  fi = f.read()\n",
        "no_history = fi.split('\\n')\n",
        "len(no_history)"
      ],
      "metadata": {
        "colab": {
          "base_uri": "https://localhost:8080/"
        },
        "outputId": "d237992b-59c6-4212-e66c-bacf79e9396a",
        "id": "bZsdJZEX359W"
      },
      "execution_count": null,
      "outputs": [
        {
          "output_type": "execute_result",
          "data": {
            "text/plain": [
              "51"
            ]
          },
          "metadata": {},
          "execution_count": 44
        }
      ]
    },
    {
      "cell_type": "code",
      "source": [
        "his = []\n",
        "with open ('/content/history_propns.txt', 'r', encoding='utf-8') as f:\n",
        "  strs = f.read()\n",
        "\n",
        "his = strs.split('\\n')\n",
        "len(his)"
      ],
      "metadata": {
        "colab": {
          "base_uri": "https://localhost:8080/"
        },
        "outputId": "0421a393-b96d-4e32-f355-c2774f1b216a",
        "id": "noKQ_v0Z359X"
      },
      "execution_count": null,
      "outputs": [
        {
          "output_type": "execute_result",
          "data": {
            "text/plain": [
              "51"
            ]
          },
          "metadata": {},
          "execution_count": 45
        }
      ]
    },
    {
      "cell_type": "code",
      "source": [
        "reses_his = []\n",
        "for sent in history:\n",
        "  substs, mask_embedding, subtoks = get_bert_substs(sent)\n",
        "  reses_his.append({\n",
        "      \"substs\": substs,\n",
        "      \"sent\": sent\n",
        "      })\n",
        "for i in reses_his:\n",
        "  print(i, end='\\n')"
      ],
      "metadata": {
        "id": "o0aAZ_Ig359X"
      },
      "execution_count": null,
      "outputs": []
    },
    {
      "cell_type": "code",
      "source": [
        "for i in range(len(his)):\n",
        "  dct_history = {}\n",
        "  dct_history[\"1_sentence\"] = no_history[i]\n",
        "  dct_history[\"2_masked_token\"] = his[i]\n",
        "  dct_history[\"3_masked_sentence\"] = history[i]\n",
        "  dct_history[\"4_bert_hypotheses\"] = reses_his[i]['substs'][:15]\n",
        "  all.append(dct_history)\n",
        "all"
      ],
      "metadata": {
        "id": "0qtDZunI359X"
      },
      "execution_count": null,
      "outputs": []
    },
    {
      "cell_type": "markdown",
      "source": [
        "**ТЕКСТЫ ПРО ПРИРОДУ**"
      ],
      "metadata": {
        "id": "RRIqnAQW--pq"
      }
    },
    {
      "cell_type": "code",
      "source": [
        "nature = []\n",
        "with open ('/content/nature.txt', 'r', encoding='utf-8') as f:\n",
        "  fi = f.read()\n",
        "nature = fi.split('\\n')\n",
        "len(nature)"
      ],
      "metadata": {
        "colab": {
          "base_uri": "https://localhost:8080/"
        },
        "outputId": "08174fd8-dc9f-491f-c33a-0451ade2c7fd",
        "id": "DANPkOCv--p0"
      },
      "execution_count": null,
      "outputs": [
        {
          "output_type": "execute_result",
          "data": {
            "text/plain": [
              "66"
            ]
          },
          "metadata": {},
          "execution_count": 48
        }
      ]
    },
    {
      "cell_type": "code",
      "source": [
        "no_nature = []\n",
        "with open ('/content/no_nature.txt', 'r', encoding='utf-8') as f:\n",
        "  fi = f.read()\n",
        "no_nature = fi.split('\\n')\n",
        "len(no_nature)"
      ],
      "metadata": {
        "colab": {
          "base_uri": "https://localhost:8080/"
        },
        "outputId": "2cd7683c-b1b0-42e3-9195-432dd79490c7",
        "id": "_4NC6rfR--p1"
      },
      "execution_count": null,
      "outputs": [
        {
          "output_type": "execute_result",
          "data": {
            "text/plain": [
              "66"
            ]
          },
          "metadata": {},
          "execution_count": 49
        }
      ]
    },
    {
      "cell_type": "code",
      "source": [
        "nat = []\n",
        "with open ('/content/nature_propns.txt', 'r', encoding='utf-8') as f:\n",
        "  strs = f.read()\n",
        "\n",
        "nat = strs.split('\\n')\n",
        "len(nat)"
      ],
      "metadata": {
        "colab": {
          "base_uri": "https://localhost:8080/"
        },
        "outputId": "d7a5046e-ccc4-4361-bb16-b087c30eb3f8",
        "id": "9DQmnueq--p1"
      },
      "execution_count": null,
      "outputs": [
        {
          "output_type": "execute_result",
          "data": {
            "text/plain": [
              "66"
            ]
          },
          "metadata": {},
          "execution_count": 50
        }
      ]
    },
    {
      "cell_type": "code",
      "source": [
        "no_nature"
      ],
      "metadata": {
        "id": "pr206hk6ALfY"
      },
      "execution_count": null,
      "outputs": []
    },
    {
      "cell_type": "code",
      "source": [
        "reses_nature = []\n",
        "for sent in nature:\n",
        "  substs, mask_embedding, subtoks = get_bert_substs(sent)\n",
        "  reses_nature.append({\n",
        "      \"substs\": substs,\n",
        "      \"sent\": sent\n",
        "      })\n",
        "for i in reses_nature:\n",
        "  print(i, end='\\n')"
      ],
      "metadata": {
        "id": "tWkUHlcu--p1"
      },
      "execution_count": null,
      "outputs": []
    },
    {
      "cell_type": "code",
      "source": [
        "for i in range(len(nat)):\n",
        "  dct_nature = {}\n",
        "  dct_nature[\"1_sentence\"] = no_nature[i]\n",
        "  dct_nature[\"2_masked_token\"] = nat[i]\n",
        "  dct_nature[\"3_masked_sentence\"] = nature[i]\n",
        "  dct_nature[\"4_bert_hypotheses\"] = reses_nature[i]['substs'][:15]\n",
        "  all.append(dct_nature)\n",
        "all"
      ],
      "metadata": {
        "id": "mGioQhiQ--p2"
      },
      "execution_count": null,
      "outputs": []
    },
    {
      "cell_type": "markdown",
      "source": [
        "**ЗАПИСЬ СПИСКА СЛОВАРЕЙ В ФАЙЛ**"
      ],
      "metadata": {
        "id": "BBulMjSqaAKY"
      }
    },
    {
      "cell_type": "code",
      "source": [
        "with open('list словарей.txt','a') as f:\n",
        "  for el in all:\n",
        "    for key,val in el.items():\n",
        "      f.write('{}:{}\\n'.format(key,val))\n",
        "    f.write('\\n')"
      ],
      "metadata": {
        "id": "qXFIU6dWaFeF"
      },
      "execution_count": null,
      "outputs": []
    },
    {
      "cell_type": "code",
      "source": [
        "len(all)"
      ],
      "metadata": {
        "colab": {
          "base_uri": "https://localhost:8080/"
        },
        "id": "HBr0T9SbcRPv",
        "outputId": "11edf55a-ded6-42c8-ba69-6c52b6e83d9c"
      },
      "execution_count": null,
      "outputs": [
        {
          "output_type": "execute_result",
          "data": {
            "text/plain": [
              "342"
            ]
          },
          "metadata": {},
          "execution_count": 63
        }
      ]
    },
    {
      "cell_type": "code",
      "source": [
        "import csv\n",
        "path = '/content/list2.csv'\n",
        "def save(all, path):#ФУНКЦИЯ ЗАПИСИ СПАРСЕННЫХ ДАННЫХ В CSV ФАЙЛ\n",
        "    with open(path,'w') as csvfile:\n",
        "        writer = csv.writer(csvfile)\n",
        "        writer.writerow(('ne','yu','jk', 'ol'))\n",
        "\n",
        "        for team in all:\n",
        "            writer.writerow((team['ne'],team['yu'],team['jk'], team['ol']))"
      ],
      "metadata": {
        "id": "-aTqkjUQd6JZ"
      },
      "execution_count": null,
      "outputs": []
    },
    {
      "cell_type": "code",
      "source": [
        "with open('dct_5.csv', 'a', encoding='utf-8') as csv_file:\n",
        "    writer = csv.writer(csv_file)\n",
        "    for el in all:\n",
        "      for key, value in el.items():\n",
        "        writer.writerow([key, value])\n",
        "      writer.writerow('\\n')"
      ],
      "metadata": {
        "id": "Dy4tpn0_fbxZ"
      },
      "execution_count": null,
      "outputs": []
    }
  ]
}